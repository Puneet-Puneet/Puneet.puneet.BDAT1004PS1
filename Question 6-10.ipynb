{
 "cells": [
  {
   "cell_type": "markdown",
   "id": "d0d19045",
   "metadata": {},
   "source": [
    "# Question 6\n",
    "\n",
    "You can turn a word into pig-Latin using the following two rules(simplified):  \n",
    "• If the word starts with a consonant, move that letter to the end and append \n",
    "'ay'. For example, 'happy' becomes 'appyhay' and 'pencil' becomes 'encilpay'.  \n",
    "• If the word starts with a vowel, simply append 'way' to the end of the word. \n",
    "For example, 'enter' becomes 'enterway' and 'other' becomes 'otherway' . For \n",
    "our purposes, there are 5 vowels: a, e, i, o, u (so we count y as a consonant).  \n",
    "Write a function pig() that takes a word (i.e., a string) as input and returns its pig\u0002Latin form. Your function should still work if the input word contains upper case \n",
    "characters. Your output should always be lower case however.  \n",
    "pig('happy')\n",
    "'appyhay'  \n",
    "pig('Enter')\n",
    "'enterway'\n"
   ]
  },
  {
   "cell_type": "code",
   "execution_count": 9,
   "id": "2b1fb25f",
   "metadata": {},
   "outputs": [],
   "source": [
    "def pig(word):\n",
    "    \n",
    "    vowel=('a','e','i','o','u')\n",
    "    \n",
    "    if word[0] in vowel:\n",
    "        print(word.lower()+\"way\")\n",
    "        \n",
    "    else:\n",
    "        char=word[1:len(word)]\n",
    "        print(char.lower()+word[0].lower()+\"ay\")\n",
    "        "
   ]
  },
  {
   "cell_type": "code",
   "execution_count": 10,
   "id": "e930a229",
   "metadata": {},
   "outputs": [
    {
     "name": "stdout",
     "output_type": "stream",
     "text": [
      "appyhay\n"
     ]
    }
   ],
   "source": [
    "pig('happy')"
   ]
  },
  {
   "cell_type": "code",
   "execution_count": 6,
   "id": "f6f0dd81",
   "metadata": {},
   "outputs": [
    {
     "name": "stdout",
     "output_type": "stream",
     "text": [
      "enterway\n"
     ]
    }
   ],
   "source": [
    " pig('enter')"
   ]
  },
  {
   "cell_type": "markdown",
   "id": "60717263",
   "metadata": {},
   "source": [
    "# Question 7\n",
    "\n",
    "File bloodtype1.txt records blood-types of patients (A, B, AB, O or OO) at a clinic.   \n",
    "Write a function bldcount() that reads the file with name name and reports (i.e., \n",
    "prints) how many patients there are in each bloodtype.  \n",
    " bldcount('bloodtype.txt')  \n",
    "There are 10 patients of blood type A.   \n",
    "There is one patient of blood type B.   \n",
    "There are 10 patients of blood type AB.   \n",
    "There are 12 patients of blood type O.   \n",
    "There are no patients of blood type OO."
   ]
  },
  {
   "cell_type": "code",
   "execution_count": 57,
   "id": "a5a00b46",
   "metadata": {},
   "outputs": [],
   "source": [
    "def bldcount():\n",
    "    blood_types = ['A','B','AB','O','OO']\n",
    "    open_file = open(\"bloodtype1.txt\",\"r\")\n",
    "    read.file = open_file.read()\n",
    "    file = list(read.file.split())\n",
    "    \n",
    "    A=0\n",
    "    B=0\n",
    "    AB=0\n",
    "    O=0\n",
    "    OO=0\n",
    "    \n",
    "    for x in file:\n",
    "        if x == 'A':\n",
    "            A == A+1\n",
    "            \n",
    "        elif x =='B':\n",
    "            B == B+1\n",
    "            \n",
    "        elif x == 'AB':\n",
    "            AB == AB+1\n",
    "            \n",
    "        elif x == 'O':\n",
    "            O == O+1\n",
    "            \n",
    "        else:\n",
    "            OO == OO+1\n",
    "    print('there are' + A + 'patients of blood type A')\n",
    "    print('there are' + B + 'patients of blood type B')\n",
    "    print('there are' + AB + 'patients of blood type AB')\n",
    "    print('there are' + O + 'patients of blood type O')\n",
    "    print('there are' + OO + 'patients of blood type OO')\n",
    "    \n",
    "    bldcount(bloodtype1.txt);\n"
   ]
  },
  {
   "cell_type": "markdown",
   "id": "c6fd9cf8",
   "metadata": {},
   "source": [
    "# Question 8\n",
    "\n",
    "Write a function curconv() that takes as input:  \n",
    " 1. a currency represented using a string (e.g., 'JPY' for the Japanese Yen or 'EUR' for the Euro)  \n",
    " 2. an amount  \n",
    "and then converts and returns the amount in US dollars.  \n",
    "curconv('EUR', 100)  \n",
    "122.96544  \n",
    "curconv('JPY', 100)  \n",
    "1.241401  \n",
    "\n",
    "The currency rates you will need are stored in file currencies.txt:    \n",
    "AUD 1.0345157 Australian Dollar  \n",
    "CHF 1.0237414 Swiss Franc  \n",
    "CNY 0.1550176 Chinese Yuan  \n",
    "DKK 0.1651442 Danish Krone  \n",
    "EUR 1.2296544 Euro  \n",
    "GBP 1.5550989 British Pound  \n",
    "HKD 0.1270207 Hong Kong Dollar  \n",
    "INR 0.0177643 Indian Rupee  \n",
    "JPY 0.01241401 Japanese Yen  \n",
    "MXN 0.0751848 Mexican Peso  \n",
    "MYR 0.3145411 Malaysian Ringgit  \n",
    "NOK 0.1677063 Norwegian Krone  \n",
    "NZD 0.8003591 New Zealand Dollar  \n",
    "PHP 0.0233234 Philippine Peso   \n",
    "SEK 0.148269 Swedish Krona  \n",
    "SGD 0.788871 Singapore Dollar  \n",
    "THB 0.0313789 Thai Baht  "
   ]
  },
  {
   "cell_type": "code",
   "execution_count": null,
   "id": "baf93968",
   "metadata": {},
   "outputs": [],
   "source": [
    "def curconv():\n",
    "    open_file == open('currencies.txt','r')\n",
    "    read = open_file.read()\n",
    "    curresion_rate = {}\n",
    "        \n",
    "    \n",
    "    if currency in conversion_rates:\n",
    "        return amount * conversion_rates[curreny]\n",
    "    \n",
    "    else:\n",
    "        print(\"curreny '{currency}' not supported.\")\n",
    "        return"
   ]
  },
  {
   "cell_type": "markdown",
   "id": "19f9f024",
   "metadata": {},
   "source": [
    "# Question 9\n",
    "\n",
    "Each of the following will cause an exception (an error). Identify what type of exception each will cause.  \n",
    "a. Trying to add incompatible variables, as in adding 6 + ‘a’  "
   ]
  },
  {
   "cell_type": "code",
   "execution_count": 17,
   "id": "2a2338ec",
   "metadata": {},
   "outputs": [
    {
     "ename": "TypeError",
     "evalue": "unsupported operand type(s) for +: 'int' and 'str'",
     "output_type": "error",
     "traceback": [
      "\u001b[1;31m---------------------------------------------------------------------------\u001b[0m",
      "\u001b[1;31mTypeError\u001b[0m                                 Traceback (most recent call last)",
      "Cell \u001b[1;32mIn[17], line 4\u001b[0m\n\u001b[0;32m      1\u001b[0m \u001b[38;5;66;03m#a \u001b[39;00m\n\u001b[0;32m      2\u001b[0m \u001b[38;5;66;03m#Trying to add incompatible variables, as in adding 6 + 'a'\u001b[39;00m\n\u001b[1;32m----> 4\u001b[0m \u001b[38;5;241;43m6\u001b[39;49m\u001b[43m \u001b[49m\u001b[38;5;241;43m+\u001b[39;49m\u001b[43m \u001b[49m\u001b[38;5;124;43m'\u001b[39;49m\u001b[38;5;124;43ma\u001b[39;49m\u001b[38;5;124;43m'\u001b[39;49m\n",
      "\u001b[1;31mTypeError\u001b[0m: unsupported operand type(s) for +: 'int' and 'str'"
     ]
    }
   ],
   "source": [
    "#a \n",
    "#Trying to add incompatible variables, as in adding 6 + 'a'\n",
    "\n",
    "6 + 'a'\n",
    "\n",
    " #SyntaxError - invalid character in identifier"
   ]
  },
  {
   "cell_type": "markdown",
   "id": "d814e6c5",
   "metadata": {},
   "source": [
    "# Question 9\n",
    "\n",
    "b. Reffering to the 12th item of a list that has only 10 items."
   ]
  },
  {
   "cell_type": "code",
   "execution_count": 18,
   "id": "4a0e9c3b",
   "metadata": {},
   "outputs": [
    {
     "ename": "IndexError",
     "evalue": "list index out of range",
     "output_type": "error",
     "traceback": [
      "\u001b[1;31m---------------------------------------------------------------------------\u001b[0m",
      "\u001b[1;31mIndexError\u001b[0m                                Traceback (most recent call last)",
      "Cell \u001b[1;32mIn[18], line 4\u001b[0m\n\u001b[0;32m      1\u001b[0m \u001b[38;5;66;03m#Reffering to the 12th item of a list that has only 10 items.\u001b[39;00m\n\u001b[0;32m      3\u001b[0m A\u001b[38;5;241m=\u001b[39m[\u001b[38;5;241m1\u001b[39m,\u001b[38;5;241m2\u001b[39m,\u001b[38;5;241m3\u001b[39m,\u001b[38;5;241m4\u001b[39m,\u001b[38;5;241m5\u001b[39m,\u001b[38;5;241m6\u001b[39m,\u001b[38;5;241m7\u001b[39m,\u001b[38;5;241m8\u001b[39m,\u001b[38;5;241m9\u001b[39m,\u001b[38;5;241m10\u001b[39m]\n\u001b[1;32m----> 4\u001b[0m \u001b[43mA\u001b[49m\u001b[43m[\u001b[49m\u001b[38;5;241;43m12\u001b[39;49m\u001b[43m]\u001b[49m\n",
      "\u001b[1;31mIndexError\u001b[0m: list index out of range"
     ]
    }
   ],
   "source": [
    "\n",
    "A=[1,2,3,4,5,6,7,8,9,10]\n",
    "A[12]"
   ]
  },
  {
   "cell_type": "markdown",
   "id": "7527f8ac",
   "metadata": {},
   "source": [
    "# Question 9\n",
    "\n",
    "c. using a value that is out of range for a function's input, such as calling math.sqrt(-1.0)"
   ]
  },
  {
   "cell_type": "code",
   "execution_count": 19,
   "id": "c91ab503",
   "metadata": {},
   "outputs": [
    {
     "ename": "ValueError",
     "evalue": "math domain error",
     "output_type": "error",
     "traceback": [
      "\u001b[1;31m---------------------------------------------------------------------------\u001b[0m",
      "\u001b[1;31mValueError\u001b[0m                                Traceback (most recent call last)",
      "Cell \u001b[1;32mIn[19], line 4\u001b[0m\n\u001b[0;32m      1\u001b[0m \u001b[38;5;66;03m#c using a value that is out of range for a function's input, such as calling math.sqrt(-1.0)\u001b[39;00m\n\u001b[0;32m      3\u001b[0m \u001b[38;5;28;01mimport\u001b[39;00m \u001b[38;5;21;01mmath\u001b[39;00m\n\u001b[1;32m----> 4\u001b[0m \u001b[43mmath\u001b[49m\u001b[38;5;241;43m.\u001b[39;49m\u001b[43msqrt\u001b[49m\u001b[43m(\u001b[49m\u001b[38;5;241;43m-\u001b[39;49m\u001b[38;5;241;43m1.0\u001b[39;49m\u001b[43m)\u001b[49m\n",
      "\u001b[1;31mValueError\u001b[0m: math domain error"
     ]
    }
   ],
   "source": [
    "\n",
    "import math\n",
    "math.sqrt(-1.0)\n"
   ]
  },
  {
   "cell_type": "markdown",
   "id": "1506f0ca",
   "metadata": {},
   "source": [
    "# Question 9\n",
    "\n",
    "d. using an undeclared variable, such as print(x) when x has not been identified"
   ]
  },
  {
   "cell_type": "code",
   "execution_count": 20,
   "id": "bc3be5be",
   "metadata": {},
   "outputs": [
    {
     "ename": "NameError",
     "evalue": "name 'x' is not defined",
     "output_type": "error",
     "traceback": [
      "\u001b[1;31m---------------------------------------------------------------------------\u001b[0m",
      "\u001b[1;31mNameError\u001b[0m                                 Traceback (most recent call last)",
      "Cell \u001b[1;32mIn[20], line 3\u001b[0m\n\u001b[0;32m      1\u001b[0m \u001b[38;5;66;03m#d using an undeclared variable, such as print(x) when x has not been identified\u001b[39;00m\n\u001b[1;32m----> 3\u001b[0m \u001b[38;5;28mprint\u001b[39m(\u001b[43mx\u001b[49m)\n",
      "\u001b[1;31mNameError\u001b[0m: name 'x' is not defined"
     ]
    }
   ],
   "source": [
    "\n",
    "print(x)\n"
   ]
  },
  {
   "cell_type": "markdown",
   "id": "e98b8675",
   "metadata": {},
   "source": [
    "# Question 9\n",
    "\n",
    "e. trying to open a file that doesn't exist, such as mistyping the file name or lookinh in the wrong directory"
   ]
  },
  {
   "cell_type": "code",
   "execution_count": 21,
   "id": "03dfba5b",
   "metadata": {},
   "outputs": [
    {
     "ename": "FileNotFoundError",
     "evalue": "[Errno 2] No such file or directory: 'punnet.txt'",
     "output_type": "error",
     "traceback": [
      "\u001b[1;31m---------------------------------------------------------------------------\u001b[0m",
      "\u001b[1;31mFileNotFoundError\u001b[0m                         Traceback (most recent call last)",
      "Cell \u001b[1;32mIn[21], line 3\u001b[0m\n\u001b[0;32m      1\u001b[0m \u001b[38;5;66;03m#e trying to open a file that doesn't exist, such as mistyping the file name or lookinh in the wrong directory\u001b[39;00m\n\u001b[1;32m----> 3\u001b[0m infile \u001b[38;5;241m=\u001b[39m \u001b[38;5;28;43mopen\u001b[39;49m\u001b[43m(\u001b[49m\u001b[38;5;124;43m'\u001b[39;49m\u001b[38;5;124;43mpunnet.txt\u001b[39;49m\u001b[38;5;124;43m'\u001b[39;49m\u001b[43m,\u001b[49m\u001b[43m \u001b[49m\u001b[38;5;124;43m'\u001b[39;49m\u001b[38;5;124;43mr\u001b[39;49m\u001b[38;5;124;43m'\u001b[39;49m\u001b[43m)\u001b[49m\n",
      "File \u001b[1;32m~\\anaconda3\\lib\\site-packages\\IPython\\core\\interactiveshell.py:282\u001b[0m, in \u001b[0;36m_modified_open\u001b[1;34m(file, *args, **kwargs)\u001b[0m\n\u001b[0;32m    275\u001b[0m \u001b[38;5;28;01mif\u001b[39;00m file \u001b[38;5;129;01min\u001b[39;00m {\u001b[38;5;241m0\u001b[39m, \u001b[38;5;241m1\u001b[39m, \u001b[38;5;241m2\u001b[39m}:\n\u001b[0;32m    276\u001b[0m     \u001b[38;5;28;01mraise\u001b[39;00m \u001b[38;5;167;01mValueError\u001b[39;00m(\n\u001b[0;32m    277\u001b[0m         \u001b[38;5;124mf\u001b[39m\u001b[38;5;124m\"\u001b[39m\u001b[38;5;124mIPython won\u001b[39m\u001b[38;5;124m'\u001b[39m\u001b[38;5;124mt let you open fd=\u001b[39m\u001b[38;5;132;01m{\u001b[39;00mfile\u001b[38;5;132;01m}\u001b[39;00m\u001b[38;5;124m by default \u001b[39m\u001b[38;5;124m\"\u001b[39m\n\u001b[0;32m    278\u001b[0m         \u001b[38;5;124m\"\u001b[39m\u001b[38;5;124mas it is likely to crash IPython. If you know what you are doing, \u001b[39m\u001b[38;5;124m\"\u001b[39m\n\u001b[0;32m    279\u001b[0m         \u001b[38;5;124m\"\u001b[39m\u001b[38;5;124myou can use builtins\u001b[39m\u001b[38;5;124m'\u001b[39m\u001b[38;5;124m open.\u001b[39m\u001b[38;5;124m\"\u001b[39m\n\u001b[0;32m    280\u001b[0m     )\n\u001b[1;32m--> 282\u001b[0m \u001b[38;5;28;01mreturn\u001b[39;00m io_open(file, \u001b[38;5;241m*\u001b[39margs, \u001b[38;5;241m*\u001b[39m\u001b[38;5;241m*\u001b[39mkwargs)\n",
      "\u001b[1;31mFileNotFoundError\u001b[0m: [Errno 2] No such file or directory: 'punnet.txt'"
     ]
    }
   ],
   "source": [
    "infile = open('punnet.txt', 'r')"
   ]
  },
  {
   "cell_type": "markdown",
   "id": "a05c38b9",
   "metadata": {},
   "source": [
    "# Question 10\n",
    "\n",
    "Encryption is the process of hiding the meaning of a text by substituting letters in the \n",
    "message with other letters, according to some system. If the process is successful, no \n",
    "one but the intended recipient can understand the encrypted message. Cryptanalysis \n",
    "refers to attempts to undo the encryption, even if some details of the encryption are \n",
    "unknown (for example, if an encrypted message has been intercepted). The first step \n",
    "of cryptanalysis is often to build up a table of letter frequencies in the encrypted text. \n",
    "Assume that the string letters is already defined as \n",
    "'abcdefghijklmnopqrstuvwxyz'. Write a function called frequencies() \n",
    "that takes a string as its only parameter, and returns a list of integers, showing the \n",
    "number of times each character appears in the text. Your function may ignore any \n",
    "characters that are not in letters.  \n",
    "frequencies('The quick red fox got bored and went home.')   \n",
    "[1, 1, 1, 3, 5, 1, 1, 2, 1, 0, 1, 0, 1, 2, 4, 0, 1, 2, 0, 2,\n",
    "1, 0, 1, 1, 0, 0]  \n",
    "frequencies('apple')  "
   ]
  },
  {
   "cell_type": "code",
   "execution_count": 23,
   "id": "c5016b79",
   "metadata": {},
   "outputs": [
    {
     "data": {
      "text/plain": [
       "[1, 1, 1, 3, 5, 1, 1, 2, 1, 0, 1, 0, 1, 2, 4, 0, 1, 2, 0, 2, 1, 0, 1, 1, 0]"
      ]
     },
     "execution_count": 23,
     "metadata": {},
     "output_type": "execute_result"
    }
   ],
   "source": [
    "alphabet_letters = \"abcdefghijklmnopqrstuvwxyz\"\n",
    "def frequencies(a):\n",
    "    \n",
    "    counter=[]\n",
    "    for x in range(0,len(alphabet_letters)-1):\n",
    "        counter.append((a.count(alphabet_letters[x])))\n",
    "    return counter\n",
    "\n",
    "frequencies('The quick red fox got bored and went home.')"
   ]
  },
  {
   "cell_type": "code",
   "execution_count": 24,
   "id": "63067d10",
   "metadata": {},
   "outputs": [
    {
     "data": {
      "text/plain": [
       "[1, 0, 0, 0, 1, 0, 0, 0, 0, 0, 0, 1, 0, 0, 0, 2, 0, 0, 0, 0, 0, 0, 0, 0, 0]"
      ]
     },
     "execution_count": 24,
     "metadata": {},
     "output_type": "execute_result"
    }
   ],
   "source": [
    "frequencies('apple')"
   ]
  }
 ],
 "metadata": {
  "kernelspec": {
   "display_name": "Python 3 (ipykernel)",
   "language": "python",
   "name": "python3"
  },
  "language_info": {
   "codemirror_mode": {
    "name": "ipython",
    "version": 3
   },
   "file_extension": ".py",
   "mimetype": "text/x-python",
   "name": "python",
   "nbconvert_exporter": "python",
   "pygments_lexer": "ipython3",
   "version": "3.10.9"
  }
 },
 "nbformat": 4,
 "nbformat_minor": 5
}
