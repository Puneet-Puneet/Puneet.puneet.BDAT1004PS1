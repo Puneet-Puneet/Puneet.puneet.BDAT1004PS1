{
 "cells": [
  {
   "cell_type": "markdown",
   "id": "ebb85896",
   "metadata": {},
   "source": [
    "# Question 1\n",
    "\n",
    "What data type is each of the following?"
   ]
  },
  {
   "cell_type": "code",
   "execution_count": null,
   "id": "6b152561",
   "metadata": {},
   "outputs": [],
   "source": [
    "\n",
    "5  -  int\n",
    "5.0  -  float\n",
    "5 > 1  -  bool\n",
    "'5'  -   str\n",
    "5 * 2  -  int \n",
    "'5' * 2  -  str\n",
    "'5' + '2'  -  str\n",
    "5 / 2  -  float\n",
    "5 % 2  -  int\n",
    "{5, 2, 1}  -  list\n",
    "5 == 3  -  int\n",
    "Pi (the number)  -  float\n"
   ]
  },
  {
   "cell_type": "markdown",
   "id": "332277cc",
   "metadata": {},
   "source": [
    "# Question 2\n",
    "\n",
    "Write (and evaluate) C# expressions that answer these questions:  \n",
    "a. How many letters are there in 'Supercalifragilisticexpialidocious'?"
   ]
  },
  {
   "cell_type": "code",
   "execution_count": 20,
   "id": "c181e35b",
   "metadata": {},
   "outputs": [
    {
     "name": "stdout",
     "output_type": "stream",
     "text": [
      "34\r\n"
     ]
    }
   ],
   "source": [
    "string word = \"Supercalifragilisticexpialidocious\";\n",
    "int Count = word.Length;\n",
    "\n",
    "Console.WriteLine(Count);"
   ]
  },
  {
   "cell_type": "markdown",
   "id": "7d4c0cd0",
   "metadata": {},
   "source": [
    "# Question 2\n",
    "\n",
    "b. Does 'Supercalifragilisticexpialidocious' contain 'ice' as a substring?"
   ]
  },
  {
   "cell_type": "code",
   "execution_count": 2,
   "id": "3f37e3d4",
   "metadata": {},
   "outputs": [
    {
     "name": "stdout",
     "output_type": "stream",
     "text": [
      "True\r\n"
     ]
    }
   ],
   "source": [
    "string word = \"Supercalifragilisticexpialidocious\";\n",
    "bool containsIce = word.Contains(\"ice\");\n",
    "\n",
    "Console.WriteLine(containsIce);"
   ]
  },
  {
   "cell_type": "markdown",
   "id": "e03984a9",
   "metadata": {},
   "source": [
    "# Question 2\n",
    "\n",
    "c. Which of the following words is the longest: \n",
    "Supercalifragilisticexpialidocious, Honorificabilitudinitatibus, or Bababadalgharaghtakamminarronnkonn?"
   ]
  },
  {
   "cell_type": "code",
   "execution_count": 4,
   "id": "44eff34e",
   "metadata": {},
   "outputs": [
    {
     "name": "stdout",
     "output_type": "stream",
     "text": [
      "Supercalifragilisticexpialidocious\r\n"
     ]
    }
   ],
   "source": [
    "string word1 = \"Supercalifragilisticexpialidocious\";\n",
    "string word2 = \"Honorificabilitudinitatibus\";\n",
    "string word3 = \"Bababadalgharaghtakamminarronnkonn\";\n",
    "\n",
    "string longestWord = word1;\n",
    "\n",
    "if (word2.Length > longestWord.Length)\n",
    "longestWord = word2;\n",
    "\n",
    "if (word3.Length > longestWord.Length)\n",
    "longestWord = word;\n",
    "\n",
    "Console.WriteLine(longestWord)"
   ]
  },
  {
   "cell_type": "markdown",
   "id": "cac293cd",
   "metadata": {},
   "source": [
    "# Question 2\n",
    "\n",
    "d. Which composer comes first in the dictionary: 'Berlioz', 'Borodin', 'Brian', \n",
    "'Bartok', 'Bellini', 'Buxtehude', 'Bernstein'. Which one comes last?"
   ]
  },
  {
   "cell_type": "code",
   "execution_count": 5,
   "id": "0720cead",
   "metadata": {},
   "outputs": [
    {
     "name": "stdout",
     "output_type": "stream",
     "text": [
      "Bartok\n",
      "Buxtehude\n"
     ]
    }
   ],
   "source": [
    "string[] composers = {\"Berlioz\", \"Borodin\", \"Brian\", \"Bartok\", \"Bellini\", \"Buxtehude\", \"Bernstein\"};\n",
    "\n",
    "Array.Sort(composers);\n",
    "\n",
    "string firstComposer = composers[0];\n",
    "string lastComposer = composers[composers.Length - 1];\n",
    "\n",
    "Console.WriteLine(firstComposer);\n",
    "Console.WriteLine(lastComposer);"
   ]
  },
  {
   "cell_type": "markdown",
   "id": "da5aaff5",
   "metadata": {},
   "source": [
    "# Question 3\n",
    "\n",
    "Implement function triangleArea(a,b,c) that takes as input the lengths of the 3 \n",
    "sides of a triangle and returns the area of the triangle. By Heron's formula, the area of a triangle with side lengths a, b, and c is s(s − a)(s −b)(s −c),   \n",
    "where s = (a + b + c)/2.\n"
   ]
  },
  {
   "cell_type": "code",
   "execution_count": 29,
   "id": "d84fd21a",
   "metadata": {},
   "outputs": [],
   "source": [
    "double TriangleArea(double a, double b, double c)\n",
    "    {\n",
    "        double s = (a + b + c) / 2;\n",
    "        double area = Math.Sqrt(s * (s - a) * (s - b) * (s - c));\n",
    "        return area;\n",
    "    }"
   ]
  },
  {
   "cell_type": "code",
   "execution_count": 31,
   "id": "4c6e722f",
   "metadata": {},
   "outputs": [
    {
     "data": {
      "text/plain": [
       "1.7320508075688772"
      ]
     },
     "execution_count": 31,
     "metadata": {},
     "output_type": "execute_result"
    }
   ],
   "source": [
    "TriangleArea(2,2,2)"
   ]
  },
  {
   "cell_type": "markdown",
   "id": "be65b0c6",
   "metadata": {},
   "source": [
    "# Question 4\n",
    "\n",
    "Write a program in C# Sharp to separate odd and even integers in separate arrays. \n",
    "Go to the editor\n",
    "Test Data :\n",
    "Input the number of elements to be stored in the array :5 \n",
    "Input 5 elements in the array :\n",
    "element - 0 : 25\n",
    "element - 1 : 47\n",
    "element - 2 : 42\n",
    "element - 3 : 56\n",
    "element - 4 : 32 \n",
    "Expected Output:\n",
    "The Even elements are: \n",
    "42 56 32\n",
    "The Odd elements are : \n",
    "B\n",
    "25 47"
   ]
  },
  {
   "cell_type": "code",
   "execution_count": 34,
   "id": "8756b8a4",
   "metadata": {},
   "outputs": [],
   "source": [
    "static void Main()\n",
    "    {\n",
    "        Console.Write(\"Input the number of elements to be stored in the array: \");\n",
    "        int n = Convert.ToInt32(Console.ReadLine());\n",
    "\n",
    "        int[] numbers = new int[n];\n",
    "        Console.WriteLine(\"Input {0} elements in the array:\", n);\n",
    "        for (int i = 0; i < n; i++)\n",
    "        {\n",
    "            Console.Write(\"element - {0}: \", i);\n",
    "            numbers[i] = Convert.ToInt32(Console.ReadLine());\n",
    "        }\n",
    "\n",
    "        int[] evenArray = GetEvenNumb(numbers);\n",
    "        int[] oddArray = GetOddNumb(numbers);\n",
    "\n",
    "        Console.WriteLine(\"The Even elements are:\");\n",
    "        PrintArray(evenArray);\n",
    "\n",
    "        Console.WriteLine(\"The Odd elements are:\");\n",
    "        PrintArray(oddArray);\n",
    "    }\n",
    "\n",
    "    static int[] GetEvenNumb(int[] numbers)\n",
    "    {\n",
    "        int count = 0;\n",
    "        for (int i = 0; i < numbers.Length; i++)\n",
    "        {\n",
    "            if (numbers[i] % 2 == 0)\n",
    "            {\n",
    "                count++;\n",
    "            }\n",
    "        }\n",
    "\n",
    "        int[] evenArray = new int[count];\n",
    "        int index = 0;\n",
    "        for (int i = 0; i < numbers.Length; i++)\n",
    "        {\n",
    "            if (numbers[i] % 2 == 0)\n",
    "            {\n",
    "                evenArray[index] = numbers[i];\n",
    "                index++;\n",
    "            }\n",
    "        }\n",
    "\n",
    "        return evenArray;\n",
    "    }\n",
    "\n",
    "    static int[] GetOddNumb(int[] numbers)\n",
    "    {\n",
    "        int count = 0;\n",
    "        for (int i = 0; i < numbers.Length; i++)\n",
    "        {\n",
    "            if (numbers[i] % 2 != 0)\n",
    "            {\n",
    "                count++;\n",
    "            }\n",
    "        }\n",
    "\n",
    "        int[] oddArray = new int[count];\n",
    "        int index = 0;\n",
    "        for (int i = 0; i < numbers.Length; i++)\n",
    "        {\n",
    "            if (numbers[i] % 2 != 0)\n",
    "            {\n",
    "                oddArray[index] = numbers[i];\n",
    "                index++;\n",
    "            }\n",
    "        }\n",
    "\n",
    "        return oddArray;\n",
    "    }\n",
    "\n",
    "    static void PrintArray(int[] array)\n",
    "    {\n",
    "        foreach (int num in array)\n",
    "        {\n",
    "            Console.Write(num + \" \");\n",
    "        }\n",
    "        Console.WriteLine();\n",
    "    }"
   ]
  },
  {
   "cell_type": "markdown",
   "id": "5d64a15d",
   "metadata": {},
   "source": [
    "# Question 5\n",
    "\n",
    "a. Write a function inside(x,y,x1,y1,x2,y2) that returns True or False \n",
    "dependingonwhetherthepoint(x,y)liesintherectanglewithlowerleft \n",
    "corner (x1,y1) and upper right corner (x2,y2).  \n",
    "inside(1,1,0,0,2,3)\n",
    "True\n",
    "inside(-1,-1,0,0,2,3)\n",
    "False\n",
    " "
   ]
  },
  {
   "cell_type": "code",
   "execution_count": 18,
   "id": "6ca50496",
   "metadata": {},
   "outputs": [],
   "source": [
    "static void Main()\n",
    "    {\n",
    "        bool isInside = Inside(1, 1, 0, 0, 2, 3);\n",
    "        Console.WriteLine(isInside);\n",
    "\n",
    "        isInside = Inside(-1, -1, 0, 0, 2, 3);\n",
    "        Console.WriteLine(isInside);\n",
    "    }\n",
    "\n",
    "    static bool Inside(int x, int y, int x1, int y1, int x2, int y2)\n",
    "    {\n",
    "        if (x >= x1 && x <= x2 && y >= y1 && y <= y2)\n",
    "        {\n",
    "            return true;\n",
    "        }\n",
    "        else\n",
    "        {\n",
    "            return false;\n",
    "        }\n",
    "    }"
   ]
  },
  {
   "cell_type": "markdown",
   "id": "07fc409f",
   "metadata": {},
   "source": [
    "# Question 5\n",
    "\n",
    "b. Use function inside()from part a. to write an expression that tests whether \n",
    "the point (1,1) lies in both of the following rectangles: one with lower left \n",
    "corner (0.3, 0.5) and upper right corner (1.1, 0.7) and the other with lower \n",
    "left corner (0.5, 0.2) and upper right corner (1.1, 2)"
   ]
  },
  {
   "cell_type": "code",
   "execution_count": 25,
   "id": "52e36e54",
   "metadata": {},
   "outputs": [],
   "source": [
    "static void Main()\n",
    "{\n",
    "    Console.Write(\"Input the number of elements : \");\n",
    "    int n = Convert.ToInt32(Console.ReadLine());\n",
    "\n",
    "    int[] numbers = new int[n];\n",
    "    Console.WriteLine(\"Input {0} elements in the array:\", n);\n",
    "    for (int i = 0; i < n; i++)\n",
    "    {\n",
    "        Console.Write(\"element - {0}: \", i);\n",
    "        numbers[i] = Convert.ToInt32(Console.ReadLine());\n",
    "    }\n",
    "\n",
    "    int[] evenArray = GetEvenNumbers(numbers);\n",
    "    int[] oddArray = GetOddNumbers(numbers);\n",
    "\n",
    "    Console.WriteLine(\"The Even elements are:\");\n",
    "    PrintArray(evenArray);\n",
    "\n",
    "    Console.WriteLine(\"The Odd elements are:\");\n",
    "    PrintArray(oddArray);\n",
    "}\n",
    "\n",
    "static int[] GetEvenNumbers(int[] numbers)\n",
    "{\n",
    "    int count = 0;\n",
    "    for (int i = 0; i < numbers.Length; i++)\n",
    "    {\n",
    "        if (numbers[i] % 2 == 0)\n",
    "        {\n",
    "            count++;\n",
    "        }\n",
    "    }\n",
    "\n",
    "    int[] evenArray = new int[count];\n",
    "    int index = 0;\n",
    "    for (int i = 0; i < numbers.Length; i++)\n",
    "    {\n",
    "        if (numbers[i] % 2 == 0)\n",
    "        {\n",
    "            evenArray[index] = numbers[i];\n",
    "            index++;\n",
    "        }\n",
    "    }\n",
    "\n",
    "    return evenArray;\n",
    "}\n",
    "\n",
    "static int[] GetOddNumbers(int[] numbers)\n",
    "{\n",
    "    int count = 0;\n",
    "    for (int i = 0; i < numbers.Length; i++)\n",
    "    {\n",
    "        if (numbers[i] % 2 != 0)\n",
    "        {\n",
    "            count++;\n",
    "        }\n",
    "    }\n",
    "\n",
    "    int[] oddArray = new int[count];\n",
    "    int index = 0;\n",
    "    for (int i = 0; i < numbers.Length; i++)\n",
    "    {\n",
    "        if (numbers[i] % 2 != 0)\n",
    "        {\n",
    "            oddArray[index] = numbers[i];\n",
    "            index++;\n",
    "        }\n",
    "    }\n",
    "\n",
    "    return oddArray;\n",
    "}\n",
    "\n",
    "static void PrintArray(int[] array)\n",
    "{\n",
    "    foreach (int num in array)\n",
    "    {\n",
    "        Console.Write(num + \" \");\n",
    "    }\n",
    "    Console.WriteLine();\n",
    "}\n"
   ]
  }
 ],
 "metadata": {
  "kernelspec": {
   "display_name": ".NET (C#)",
   "language": "C#",
   "name": ".net-csharp"
  },
  "language_info": {
   "file_extension": ".cs",
   "mimetype": "text/x-csharp",
   "name": "C#",
   "pygments_lexer": "csharp",
   "version": "8.0"
  }
 },
 "nbformat": 4,
 "nbformat_minor": 5
}
